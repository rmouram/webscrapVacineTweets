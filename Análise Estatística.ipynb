{
 "cells": [
  {
   "cell_type": "markdown",
   "metadata": {},
   "source": [
    "# Análise estatística dos dados"
   ]
  },
  {
   "cell_type": "code",
   "execution_count": 2,
   "metadata": {},
   "outputs": [],
   "source": [
    "import pandas as pd\n",
    "import numpy as np\n",
    "import matplotlib.pyplot as plt\n",
    "import math\n",
    "import scipy.stats as stats\n",
    "import seaborn as sns\n",
    "import math\n",
    "import statsmodels.api as sm\n",
    "import pylab as py\n",
    "import random\n",
    "from plotnine import *"
   ]
  },
  {
   "cell_type": "code",
   "execution_count": 3,
   "metadata": {},
   "outputs": [],
   "source": [
    "df = pd.read_csv('vacine_tweets_completoDezJanFevTratado.csv')"
   ]
  },
  {
   "cell_type": "code",
   "execution_count": 4,
   "metadata": {
    "scrolled": true
   },
   "outputs": [
    {
     "name": "stdout",
     "output_type": "stream",
     "text": [
      "<class 'pandas.core.frame.DataFrame'>\n",
      "RangeIndex: 2125 entries, 0 to 2124\n",
      "Data columns (total 9 columns):\n",
      " #   Column       Non-Null Count  Dtype \n",
      "---  ------       --------------  ----- \n",
      " 0   Apelido      2122 non-null   object\n",
      " 1   Username     2114 non-null   object\n",
      " 2   Data/Hora    2125 non-null   object\n",
      " 3   Respondendo  2125 non-null   object\n",
      " 4   Texto        1143 non-null   object\n",
      " 5   link_img     2125 non-null   object\n",
      " 6   Comentarios  2125 non-null   int64 \n",
      " 7   Retweets     2125 non-null   int64 \n",
      " 8   Likes        2125 non-null   int64 \n",
      "dtypes: int64(3), object(6)\n",
      "memory usage: 149.5+ KB\n"
     ]
    }
   ],
   "source": [
    "df.info()"
   ]
  },
  {
   "cell_type": "code",
   "execution_count": 96,
   "metadata": {},
   "outputs": [
    {
     "data": {
      "text/html": [
       "<div>\n",
       "<style scoped>\n",
       "    .dataframe tbody tr th:only-of-type {\n",
       "        vertical-align: middle;\n",
       "    }\n",
       "\n",
       "    .dataframe tbody tr th {\n",
       "        vertical-align: top;\n",
       "    }\n",
       "\n",
       "    .dataframe thead th {\n",
       "        text-align: right;\n",
       "    }\n",
       "</style>\n",
       "<table border=\"1\" class=\"dataframe\">\n",
       "  <thead>\n",
       "    <tr style=\"text-align: right;\">\n",
       "      <th></th>\n",
       "      <th>Apelido</th>\n",
       "      <th>Username</th>\n",
       "      <th>Data/Hora</th>\n",
       "      <th>Respondendo</th>\n",
       "      <th>Texto</th>\n",
       "      <th>link_img</th>\n",
       "      <th>Comentarios</th>\n",
       "      <th>Retweets</th>\n",
       "      <th>Likes</th>\n",
       "    </tr>\n",
       "  </thead>\n",
       "  <tbody>\n",
       "    <tr>\n",
       "      <th>0</th>\n",
       "      <td>Eder Morselli</td>\n",
       "      <td>@edermorselli</td>\n",
       "      <td>2020-11-30T23:54:49.000Z</td>\n",
       "      <td>A pandemia não acabou... Vamos nos proteger......</td>\n",
       "      <td>NaN</td>\n",
       "      <td>https://pbs.twimg.com/media/EoHB4fVXMAEdkk5?fo...</td>\n",
       "      <td>0</td>\n",
       "      <td>1</td>\n",
       "      <td>1</td>\n",
       "    </tr>\n",
       "    <tr>\n",
       "      <th>1</th>\n",
       "      <td>V</td>\n",
       "      <td>@VR_SSC</td>\n",
       "      <td>2020-11-30T23:53:24.000Z</td>\n",
       "      <td>Em resposta a \\n@KooperHD</td>\n",
       "      <td>Os caras tacam capa variante logo quando a kug...</td>\n",
       "      <td>https://abs-0.twimg.com/emoji/v2/72x72/1f643.png</td>\n",
       "      <td>0</td>\n",
       "      <td>0</td>\n",
       "      <td>2</td>\n",
       "    </tr>\n",
       "    <tr>\n",
       "      <th>2</th>\n",
       "      <td>Lucas França</td>\n",
       "      <td>@FrancaComAmor</td>\n",
       "      <td>2020-11-30T23:53:32.000Z</td>\n",
       "      <td>Publico na \\n@RevistaEpoca\\n um papo que tive ...</td>\n",
       "      <td>Covid-19: Quem deve receber primeiro a vacina?...</td>\n",
       "      <td>https://pbs.twimg.com/card_img/136204193687451...</td>\n",
       "      <td>0</td>\n",
       "      <td>6</td>\n",
       "      <td>27</td>\n",
       "    </tr>\n",
       "    <tr>\n",
       "      <th>3</th>\n",
       "      <td>calcinha chromatica</td>\n",
       "      <td>@fckwithmyselff</td>\n",
       "      <td>2020-11-30T23:52:55.000Z</td>\n",
       "      <td>eu só penso nela (a vacina)</td>\n",
       "      <td>NaN</td>\n",
       "      <td>https://pbs.twimg.com/media/EoHBcUKWEAEcXHx?fo...</td>\n",
       "      <td>1</td>\n",
       "      <td>4</td>\n",
       "      <td>4</td>\n",
       "    </tr>\n",
       "    <tr>\n",
       "      <th>4</th>\n",
       "      <td>Rafa_SCH</td>\n",
       "      <td>@RafaSCHk</td>\n",
       "      <td>2020-11-30T23:54:43.000Z</td>\n",
       "      <td>Difícil, mas acho que pegaria a variante</td>\n",
       "      <td>Comentar o Tweet\\nKooper // 110K no Youtube\\n@...</td>\n",
       "      <td>https://pbs.twimg.com/profile_images/129763947...</td>\n",
       "      <td>0</td>\n",
       "      <td>0</td>\n",
       "      <td>1</td>\n",
       "    </tr>\n",
       "    <tr>\n",
       "      <th>5</th>\n",
       "      <td>sereia</td>\n",
       "      <td>@AnjinhoJuu</td>\n",
       "      <td>2020-11-30T23:55:54.000Z</td>\n",
       "      <td>vai jacare jacare \\ncomprei um lança p baforar...</td>\n",
       "      <td>Comentar o Tweet\\n𝐩𝐞𝐝𝐫𝐨\\n@Crf_pedrolcs\\n · 30 ...</td>\n",
       "      <td>https://pbs.twimg.com/profile_images/134771989...</td>\n",
       "      <td>1</td>\n",
       "      <td>0</td>\n",
       "      <td>1</td>\n",
       "    </tr>\n",
       "    <tr>\n",
       "      <th>6</th>\n",
       "      <td>danka ୭̥⋆*｡</td>\n",
       "      <td>@offfluencer</td>\n",
       "      <td>2020-11-30T23:57:52.000Z</td>\n",
       "      <td>11 amigas p recriar essa dps da vacina?</td>\n",
       "      <td>NaN</td>\n",
       "      <td>https://pbs.twimg.com/media/EoHClIRXMAUBcNM?fo...</td>\n",
       "      <td>6</td>\n",
       "      <td>0</td>\n",
       "      <td>13</td>\n",
       "    </tr>\n",
       "    <tr>\n",
       "      <th>7</th>\n",
       "      <td>amandoim</td>\n",
       "      <td>@lmxcncoarreaga</td>\n",
       "      <td>2020-11-30T23:46:30.000Z</td>\n",
       "      <td>a vacina tá sendo desenvolvida rápido por cont...</td>\n",
       "      <td>Comentar o Tweet\\nCONTIGO!\\n@tocontigo\\n · 30 ...</td>\n",
       "      <td>https://pbs.twimg.com/profile_images/925778444...</td>\n",
       "      <td>0</td>\n",
       "      <td>0</td>\n",
       "      <td>5</td>\n",
       "    </tr>\n",
       "    <tr>\n",
       "      <th>8</th>\n",
       "      <td>Victor Zenatti</td>\n",
       "      <td>@ZenattiVictor</td>\n",
       "      <td>2020-11-30T23:57:14.000Z</td>\n",
       "      <td>Pra iniciar dezembro com energias ótimas, com ...</td>\n",
       "      <td>NaN</td>\n",
       "      <td>https://pbs.twimg.com/media/EoHCcBaWEAMrHmL?fo...</td>\n",
       "      <td>0</td>\n",
       "      <td>0</td>\n",
       "      <td>2</td>\n",
       "    </tr>\n",
       "    <tr>\n",
       "      <th>9</th>\n",
       "      <td>CNN Brasil</td>\n",
       "      <td>@CNNBrasil</td>\n",
       "      <td>2020-11-30T23:29:05.000Z</td>\n",
       "      <td>Documentos obtidos com exclusividade pela CNN ...</td>\n",
       "      <td>NaN</td>\n",
       "      <td>https://pbs.twimg.com/media/EoG7_hWVkAMxG-Y?fo...</td>\n",
       "      <td>2100</td>\n",
       "      <td>2200</td>\n",
       "      <td>7800</td>\n",
       "    </tr>\n",
       "  </tbody>\n",
       "</table>\n",
       "</div>"
      ],
      "text/plain": [
       "               Apelido         Username                 Data/Hora  \\\n",
       "0        Eder Morselli    @edermorselli  2020-11-30T23:54:49.000Z   \n",
       "1                    V          @VR_SSC  2020-11-30T23:53:24.000Z   \n",
       "2         Lucas França   @FrancaComAmor  2020-11-30T23:53:32.000Z   \n",
       "3  calcinha chromatica  @fckwithmyselff  2020-11-30T23:52:55.000Z   \n",
       "4             Rafa_SCH        @RafaSCHk  2020-11-30T23:54:43.000Z   \n",
       "5               sereia      @AnjinhoJuu  2020-11-30T23:55:54.000Z   \n",
       "6          danka ୭̥⋆*｡     @offfluencer  2020-11-30T23:57:52.000Z   \n",
       "7             amandoim  @lmxcncoarreaga  2020-11-30T23:46:30.000Z   \n",
       "8       Victor Zenatti   @ZenattiVictor  2020-11-30T23:57:14.000Z   \n",
       "9           CNN Brasil       @CNNBrasil  2020-11-30T23:29:05.000Z   \n",
       "\n",
       "                                         Respondendo  \\\n",
       "0  A pandemia não acabou... Vamos nos proteger......   \n",
       "1                          Em resposta a \\n@KooperHD   \n",
       "2  Publico na \\n@RevistaEpoca\\n um papo que tive ...   \n",
       "3                        eu só penso nela (a vacina)   \n",
       "4           Difícil, mas acho que pegaria a variante   \n",
       "5  vai jacare jacare \\ncomprei um lança p baforar...   \n",
       "6            11 amigas p recriar essa dps da vacina?   \n",
       "7  a vacina tá sendo desenvolvida rápido por cont...   \n",
       "8  Pra iniciar dezembro com energias ótimas, com ...   \n",
       "9  Documentos obtidos com exclusividade pela CNN ...   \n",
       "\n",
       "                                               Texto  \\\n",
       "0                                                NaN   \n",
       "1  Os caras tacam capa variante logo quando a kug...   \n",
       "2  Covid-19: Quem deve receber primeiro a vacina?...   \n",
       "3                                                NaN   \n",
       "4  Comentar o Tweet\\nKooper // 110K no Youtube\\n@...   \n",
       "5  Comentar o Tweet\\n𝐩𝐞𝐝𝐫𝐨\\n@Crf_pedrolcs\\n · 30 ...   \n",
       "6                                                NaN   \n",
       "7  Comentar o Tweet\\nCONTIGO!\\n@tocontigo\\n · 30 ...   \n",
       "8                                                NaN   \n",
       "9                                                NaN   \n",
       "\n",
       "                                            link_img  Comentarios  Retweets  \\\n",
       "0  https://pbs.twimg.com/media/EoHB4fVXMAEdkk5?fo...            0         1   \n",
       "1   https://abs-0.twimg.com/emoji/v2/72x72/1f643.png            0         0   \n",
       "2  https://pbs.twimg.com/card_img/136204193687451...            0         6   \n",
       "3  https://pbs.twimg.com/media/EoHBcUKWEAEcXHx?fo...            1         4   \n",
       "4  https://pbs.twimg.com/profile_images/129763947...            0         0   \n",
       "5  https://pbs.twimg.com/profile_images/134771989...            1         0   \n",
       "6  https://pbs.twimg.com/media/EoHClIRXMAUBcNM?fo...            6         0   \n",
       "7  https://pbs.twimg.com/profile_images/925778444...            0         0   \n",
       "8  https://pbs.twimg.com/media/EoHCcBaWEAMrHmL?fo...            0         0   \n",
       "9  https://pbs.twimg.com/media/EoG7_hWVkAMxG-Y?fo...         2100      2200   \n",
       "\n",
       "   Likes  \n",
       "0      1  \n",
       "1      2  \n",
       "2     27  \n",
       "3      4  \n",
       "4      1  \n",
       "5      1  \n",
       "6     13  \n",
       "7      5  \n",
       "8      2  \n",
       "9   7800  "
      ]
     },
     "execution_count": 96,
     "metadata": {},
     "output_type": "execute_result"
    }
   ],
   "source": [
    "df.head(10)"
   ]
  },
  {
   "cell_type": "code",
   "execution_count": 4,
   "metadata": {},
   "outputs": [],
   "source": [
    "df_red = df[['Comentarios', 'Retweets', 'Likes']].copy()"
   ]
  },
  {
   "cell_type": "code",
   "execution_count": 5,
   "metadata": {},
   "outputs": [
    {
     "data": {
      "text/html": [
       "<div>\n",
       "<style scoped>\n",
       "    .dataframe tbody tr th:only-of-type {\n",
       "        vertical-align: middle;\n",
       "    }\n",
       "\n",
       "    .dataframe tbody tr th {\n",
       "        vertical-align: top;\n",
       "    }\n",
       "\n",
       "    .dataframe thead th {\n",
       "        text-align: right;\n",
       "    }\n",
       "</style>\n",
       "<table border=\"1\" class=\"dataframe\">\n",
       "  <thead>\n",
       "    <tr style=\"text-align: right;\">\n",
       "      <th></th>\n",
       "      <th>Comentarios</th>\n",
       "      <th>Retweets</th>\n",
       "      <th>Likes</th>\n",
       "    </tr>\n",
       "  </thead>\n",
       "  <tbody>\n",
       "    <tr>\n",
       "      <th>count</th>\n",
       "      <td>2125.000000</td>\n",
       "      <td>2125.000000</td>\n",
       "      <td>2125.000000</td>\n",
       "    </tr>\n",
       "    <tr>\n",
       "      <th>mean</th>\n",
       "      <td>35.097882</td>\n",
       "      <td>50.677176</td>\n",
       "      <td>262.157647</td>\n",
       "    </tr>\n",
       "    <tr>\n",
       "      <th>std</th>\n",
       "      <td>277.683715</td>\n",
       "      <td>376.650455</td>\n",
       "      <td>1894.068522</td>\n",
       "    </tr>\n",
       "    <tr>\n",
       "      <th>min</th>\n",
       "      <td>0.000000</td>\n",
       "      <td>0.000000</td>\n",
       "      <td>0.000000</td>\n",
       "    </tr>\n",
       "    <tr>\n",
       "      <th>25%</th>\n",
       "      <td>0.000000</td>\n",
       "      <td>0.000000</td>\n",
       "      <td>2.000000</td>\n",
       "    </tr>\n",
       "    <tr>\n",
       "      <th>50%</th>\n",
       "      <td>1.000000</td>\n",
       "      <td>1.000000</td>\n",
       "      <td>7.000000</td>\n",
       "    </tr>\n",
       "    <tr>\n",
       "      <th>75%</th>\n",
       "      <td>2.000000</td>\n",
       "      <td>5.000000</td>\n",
       "      <td>27.000000</td>\n",
       "    </tr>\n",
       "    <tr>\n",
       "      <th>max</th>\n",
       "      <td>6200.000000</td>\n",
       "      <td>9900.000000</td>\n",
       "      <td>47800.000000</td>\n",
       "    </tr>\n",
       "  </tbody>\n",
       "</table>\n",
       "</div>"
      ],
      "text/plain": [
       "       Comentarios     Retweets         Likes\n",
       "count  2125.000000  2125.000000   2125.000000\n",
       "mean     35.097882    50.677176    262.157647\n",
       "std     277.683715   376.650455   1894.068522\n",
       "min       0.000000     0.000000      0.000000\n",
       "25%       0.000000     0.000000      2.000000\n",
       "50%       1.000000     1.000000      7.000000\n",
       "75%       2.000000     5.000000     27.000000\n",
       "max    6200.000000  9900.000000  47800.000000"
      ]
     },
     "execution_count": 5,
     "metadata": {},
     "output_type": "execute_result"
    }
   ],
   "source": [
    "df_red.describe()"
   ]
  },
  {
   "cell_type": "markdown",
   "metadata": {
    "scrolled": true
   },
   "source": [
    "### Média"
   ]
  },
  {
   "cell_type": "code",
   "execution_count": 6,
   "metadata": {},
   "outputs": [
    {
     "name": "stdout",
     "output_type": "stream",
     "text": [
      "262.15764705882356\n",
      "50.677176470588236\n",
      "35.09788235294118\n"
     ]
    }
   ],
   "source": [
    "print(df_red['Likes'].mean())\n",
    "print(df_red['Retweets'].mean())\n",
    "print(df_red['Comentarios'].mean())"
   ]
  },
  {
   "cell_type": "markdown",
   "metadata": {},
   "source": [
    "### Mediana"
   ]
  },
  {
   "cell_type": "code",
   "execution_count": 7,
   "metadata": {},
   "outputs": [
    {
     "name": "stdout",
     "output_type": "stream",
     "text": [
      "7.0\n",
      "1.0\n",
      "1.0\n"
     ]
    }
   ],
   "source": [
    "print(df_red['Likes'].median())\n",
    "print(df_red['Comentarios'].median())\n",
    "print(df_red['Retweets'].median())"
   ]
  },
  {
   "cell_type": "markdown",
   "metadata": {},
   "source": [
    "## Estimativa de variabilidade (Medidas de dispersão)"
   ]
  },
  {
   "cell_type": "markdown",
   "metadata": {},
   "source": [
    "### Desvio"
   ]
  },
  {
   "cell_type": "code",
   "execution_count": 8,
   "metadata": {},
   "outputs": [],
   "source": [
    "media_likes = df_red['Likes'].mean()\n",
    "media_ret = df_red['Retweets'].mean()\n",
    "media_com = df_red['Comentarios'].mean()"
   ]
  },
  {
   "cell_type": "code",
   "execution_count": 9,
   "metadata": {},
   "outputs": [
    {
     "data": {
      "text/plain": [
       "0      -261.157647\n",
       "1      -260.157647\n",
       "2      -235.157647\n",
       "3      -258.157647\n",
       "4      -261.157647\n",
       "           ...    \n",
       "2120   -262.157647\n",
       "2121   -186.157647\n",
       "2122   -262.157647\n",
       "2123   -262.157647\n",
       "2124   -260.157647\n",
       "Name: Likes, Length: 2125, dtype: float64"
      ]
     },
     "execution_count": 9,
     "metadata": {},
     "output_type": "execute_result"
    }
   ],
   "source": [
    "d = df_red['Likes'].apply(lambda x: x - media_likes)\n",
    "d"
   ]
  },
  {
   "cell_type": "code",
   "execution_count": 10,
   "metadata": {},
   "outputs": [
    {
     "data": {
      "text/plain": [
       "0      -49.677176\n",
       "1      -50.677176\n",
       "2      -44.677176\n",
       "3      -46.677176\n",
       "4      -50.677176\n",
       "          ...    \n",
       "2120   -50.677176\n",
       "2121   -35.677176\n",
       "2122   -50.677176\n",
       "2123   -50.677176\n",
       "2124   -49.677176\n",
       "Name: Retweets, Length: 2125, dtype: float64"
      ]
     },
     "execution_count": 10,
     "metadata": {},
     "output_type": "execute_result"
    }
   ],
   "source": [
    "d = df_red['Retweets'].apply(lambda x: x - media_ret)\n",
    "d"
   ]
  },
  {
   "cell_type": "code",
   "execution_count": 11,
   "metadata": {},
   "outputs": [
    {
     "data": {
      "text/plain": [
       "0      -35.097882\n",
       "1      -35.097882\n",
       "2      -35.097882\n",
       "3      -34.097882\n",
       "4      -35.097882\n",
       "          ...    \n",
       "2120   -35.097882\n",
       "2121   -27.097882\n",
       "2122   -35.097882\n",
       "2123   -35.097882\n",
       "2124   -34.097882\n",
       "Name: Comentarios, Length: 2125, dtype: float64"
      ]
     },
     "execution_count": 11,
     "metadata": {},
     "output_type": "execute_result"
    }
   ],
   "source": [
    "d = df_red['Comentarios'].apply(lambda x: x - media_com)\n",
    "d"
   ]
  },
  {
   "cell_type": "markdown",
   "metadata": {},
   "source": [
    "### Desvio absoluto médio"
   ]
  },
  {
   "cell_type": "code",
   "execution_count": 12,
   "metadata": {},
   "outputs": [
    {
     "name": "stdout",
     "output_type": "stream",
     "text": [
      "442.5119933564084\n",
      "86.75883847750724\n",
      "61.48903595847936\n"
     ]
    }
   ],
   "source": [
    "print(df_red['Likes'].mad())\n",
    "print(df_red['Retweets'].mad())\n",
    "print(df_red['Comentarios'].mad())"
   ]
  },
  {
   "cell_type": "code",
   "execution_count": 13,
   "metadata": {},
   "outputs": [
    {
     "name": "stdout",
     "output_type": "stream",
     "text": [
      "3587495.565060349\n",
      "141865.56522743055\n",
      "77108.24559344162\n"
     ]
    }
   ],
   "source": [
    "print(df_red['Likes'].var())\n",
    "print(df_red['Retweets'].var())\n",
    "print(df_red['Comentarios'].var())"
   ]
  },
  {
   "cell_type": "markdown",
   "metadata": {},
   "source": [
    "### Boxplots"
   ]
  },
  {
   "cell_type": "markdown",
   "metadata": {},
   "source": [
    "#### Likes"
   ]
  },
  {
   "cell_type": "code",
   "execution_count": 14,
   "metadata": {
    "scrolled": false
   },
   "outputs": [
    {
     "data": {
      "text/plain": [
       "<matplotlib.axes._subplots.AxesSubplot at 0x2222b3bbb20>"
      ]
     },
     "execution_count": 14,
     "metadata": {},
     "output_type": "execute_result"
    },
    {
     "data": {
      "image/png": "[encoded data removed]",
      "text/plain": [
       "<Figure size 576x576 with 1 Axes>"
      ]
     },
     "metadata": {
      "needs_background": "light"
     },
     "output_type": "display_data"
    }
   ],
   "source": [
    "df_red.boxplot(column=['Likes'], fontsize='large', figsize=(8,8))"
   ]
  },
  {
   "cell_type": "markdown",
   "metadata": {},
   "source": [
    "#### Retweets"
   ]
  },
  {
   "cell_type": "code",
   "execution_count": 28,
   "metadata": {
    "scrolled": false
   },
   "outputs": [
    {
     "data": {
      "text/plain": [
       "<matplotlib.axes._subplots.AxesSubplot at 0x1ec9d6c4340>"
      ]
     },
     "execution_count": 28,
     "metadata": {},
     "output_type": "execute_result"
    },
    {
     "data": {
      "image/png": "[encoded data removed]",
      "text/plain": [
       "<Figure size 576x576 with 1 Axes>"
      ]
     },
     "metadata": {
      "needs_background": "light"
     },
     "output_type": "display_data"
    }
   ],
   "source": [
    "df_red.boxplot(column=['Retweets'], fontsize='large', figsize=(8,8))"
   ]
  },
  {
   "cell_type": "markdown",
   "metadata": {},
   "source": [
    "#### Comentários"
   ]
  },
  {
   "cell_type": "code",
   "execution_count": 29,
   "metadata": {},
   "outputs": [
    {
     "data": {
      "text/plain": [
       "<matplotlib.axes._subplots.AxesSubplot at 0x1ec9d5a29d0>"
      ]
     },
     "execution_count": 29,
     "metadata": {},
     "output_type": "execute_result"
    },
    {
     "data": {
      "image/png": "[encoded data removed]",
      "text/plain": [
       "<Figure size 576x576 with 1 Axes>"
      ]
     },
     "metadata": {
      "needs_background": "light"
     },
     "output_type": "display_data"
    }
   ],
   "source": [
    "df_red.boxplot(column=['Comentarios'], fontsize='large', figsize=(8,8))"
   ]
  },
  {
   "cell_type": "markdown",
   "metadata": {},
   "source": [
    "### Histograma"
   ]
  },
  {
   "cell_type": "code",
   "execution_count": 15,
   "metadata": {},
   "outputs": [],
   "source": [
    "# calculando bins\n",
    "k_likes = math.ceil(1 + 3.3 * math.log10( df_red['Likes'].size ))\n",
    "k_ret = math.ceil(1 + 3.3 * math.log10( df_red['Retweets'].size ))\n",
    "k_com = math.ceil(1 + 3.3 * math.log10( df_red['Comentarios'].size ))"
   ]
  },
  {
   "cell_type": "code",
   "execution_count": 16,
   "metadata": {
    "scrolled": true
   },
   "outputs": [
    {
     "data": {
      "image/png": "[encoded data removed]",
      "text/plain": [
       "<Figure size 432x288 with 1 Axes>"
      ]
     },
     "metadata": {
      "needs_background": "light"
     },
     "output_type": "display_data"
    }
   ],
   "source": [
    "import matplotlib.pyplot as plt\n",
    "plt.hist(df_red['Likes'], bins=k_likes)\n",
    "plt.show()"
   ]
  },
  {
   "cell_type": "code",
   "execution_count": 17,
   "metadata": {},
   "outputs": [
    {
     "data": {
      "image/png": "[encoded data removed]",
      "text/plain": [
       "<Figure size 432x288 with 1 Axes>"
      ]
     },
     "metadata": {
      "needs_background": "light"
     },
     "output_type": "display_data"
    }
   ],
   "source": [
    "import matplotlib.pyplot as plt\n",
    "plt.hist(df_red['Retweets'], bins=k_ret)\n",
    "plt.show()"
   ]
  },
  {
   "cell_type": "code",
   "execution_count": 18,
   "metadata": {},
   "outputs": [
    {
     "data": {
      "image/png": "[encoded data removed]",
      "text/plain": [
       "<Figure size 432x288 with 1 Axes>"
      ]
     },
     "metadata": {
      "needs_background": "light"
     },
     "output_type": "display_data"
    }
   ],
   "source": [
    "import matplotlib.pyplot as plt\n",
    "plt.hist(df_red['Comentarios'], bins=k_com)\n",
    "plt.show()"
   ]
  },
  {
   "cell_type": "markdown",
   "metadata": {},
   "source": [
    "### Correlações"
   ]
  },
  {
   "cell_type": "code",
   "execution_count": 53,
   "metadata": {
    "scrolled": false
   },
   "outputs": [
    {
     "data": {
      "text/plain": [
       "<matplotlib.axes._subplots.AxesSubplot at 0x1ec9f9dff70>"
      ]
     },
     "execution_count": 53,
     "metadata": {},
     "output_type": "execute_result"
    },
    {
     "data": {
      "image/png": "[encoded data removed]",
      "text/plain": [
       "<Figure size 720x720 with 2 Axes>"
      ]
     },
     "metadata": {
      "needs_background": "light"
     },
     "output_type": "display_data"
    }
   ],
   "source": [
    "%matplotlib inline\n",
    "\n",
    "plt.figure(figsize=(10,10)) \n",
    "sns.heatmap(df_red.corr(method='spearman'))"
   ]
  },
  {
   "cell_type": "markdown",
   "metadata": {},
   "source": [
    "- Utilizando o método de spearman pois neste ponto desconheço a distribuição dos dados.<br />\n",
    "- Vemos que a maior correlação se da entre Likes e Retweets"
   ]
  },
  {
   "cell_type": "code",
   "execution_count": 64,
   "metadata": {
    "scrolled": true
   },
   "outputs": [
    {
     "data": {
      "image/png": "[encoded data removed]",
      "text/plain": [
       "<Figure size 432x288 with 1 Axes>"
      ]
     },
     "metadata": {
      "needs_background": "light"
     },
     "output_type": "display_data"
    }
   ],
   "source": [
    "plt.scatter(df_red['Likes'], df_red['Retweets'], c='k')\n",
    "\n",
    "plt.xlabel(\"Likes\")\n",
    "plt.ylabel(\"Retweets\")\n",
    "\n",
    "plt.show()"
   ]
  },
  {
   "cell_type": "code",
   "execution_count": 97,
   "metadata": {},
   "outputs": [
    {
     "data": {
      "text/html": [
       "<div>\n",
       "<style scoped>\n",
       "    .dataframe tbody tr th:only-of-type {\n",
       "        vertical-align: middle;\n",
       "    }\n",
       "\n",
       "    .dataframe tbody tr th {\n",
       "        vertical-align: top;\n",
       "    }\n",
       "\n",
       "    .dataframe thead th {\n",
       "        text-align: right;\n",
       "    }\n",
       "</style>\n",
       "<table border=\"1\" class=\"dataframe\">\n",
       "  <thead>\n",
       "    <tr style=\"text-align: right;\">\n",
       "      <th></th>\n",
       "      <th>Apelido</th>\n",
       "      <th>Username</th>\n",
       "      <th>Data/Hora</th>\n",
       "      <th>Respondendo</th>\n",
       "      <th>Texto</th>\n",
       "      <th>link_img</th>\n",
       "      <th>Comentarios</th>\n",
       "      <th>Retweets</th>\n",
       "      <th>Likes</th>\n",
       "    </tr>\n",
       "  </thead>\n",
       "  <tbody>\n",
       "    <tr>\n",
       "      <th>258</th>\n",
       "      <td>Eixo Político</td>\n",
       "      <td>@eixopolitico</td>\n",
       "      <td>2020-12-14T16:33:16.000Z</td>\n",
       "      <td>Hoje, nos Estados Unidos.</td>\n",
       "      <td>NaN</td>\n",
       "      <td>https://pbs.twimg.com/media/EpNjEq4XIAQ_wZH?fo...</td>\n",
       "      <td>431</td>\n",
       "      <td>9900</td>\n",
       "      <td>47800</td>\n",
       "    </tr>\n",
       "  </tbody>\n",
       "</table>\n",
       "</div>"
      ],
      "text/plain": [
       "           Apelido       Username                 Data/Hora  \\\n",
       "258  Eixo Político  @eixopolitico  2020-12-14T16:33:16.000Z   \n",
       "\n",
       "                   Respondendo Texto  \\\n",
       "258  Hoje, nos Estados Unidos.   NaN   \n",
       "\n",
       "                                              link_img  Comentarios  Retweets  \\\n",
       "258  https://pbs.twimg.com/media/EpNjEq4XIAQ_wZH?fo...          431      9900   \n",
       "\n",
       "     Likes  \n",
       "258  47800  "
      ]
     },
     "execution_count": 97,
     "metadata": {},
     "output_type": "execute_result"
    }
   ],
   "source": [
    "df.query('Likes > 40000')"
   ]
  },
  {
   "cell_type": "markdown",
   "metadata": {},
   "source": [
    "## Boostrap"
   ]
  },
  {
   "cell_type": "code",
   "execution_count": 83,
   "metadata": {},
   "outputs": [],
   "source": [
    "likes = df_red['Likes'].tolist()\n",
    "comentarios = df_red['Comentarios'].tolist()\n",
    "retweets = df_red['Retweets'].tolist()"
   ]
  },
  {
   "cell_type": "code",
   "execution_count": 85,
   "metadata": {},
   "outputs": [
    {
     "name": "stdout",
     "output_type": "stream",
     "text": [
      "7.0\n",
      "1.0\n",
      "1.0\n"
     ]
    }
   ],
   "source": [
    "print(np.median(likes))\n",
    "print(np.median(comentarios))\n",
    "print(np.median(retweets))"
   ]
  },
  {
   "cell_type": "markdown",
   "metadata": {},
   "source": [
    "#### Teorema do limite central usando bootstrap"
   ]
  },
  {
   "cell_type": "code",
   "execution_count": 86,
   "metadata": {},
   "outputs": [],
   "source": [
    "sample_mean_likes = []\n",
    "sample_mean_com = []\n",
    "sample_mean_ret = []\n",
    "\n",
    "# Bootstrap sampling\n",
    "\n",
    "for i in range(80):\n",
    "    y = random.sample(likes, 5)\n",
    "    avg = np.median(y)\n",
    "    sample_mean_likes.append(np.round(avg,0))\n",
    "\n",
    "for i in range(80):\n",
    "    y = random.sample(comentarios, 5)\n",
    "    avg = np.median(y)\n",
    "    sample_mean_com.append(np.round(avg,0))\n",
    "    \n",
    "for i in range(80):\n",
    "    y = random.sample(retweets, 5)\n",
    "    avg = np.median(y)\n",
    "    sample_mean_ret.append(np.round(avg,0))"
   ]
  },
  {
   "cell_type": "code",
   "execution_count": 87,
   "metadata": {
    "scrolled": true
   },
   "outputs": [
    {
     "name": "stdout",
     "output_type": "stream",
     "text": [
      "11.475\n",
      "1.4375\n",
      "1.6625\n"
     ]
    }
   ],
   "source": [
    "print(np.mean(sample_mean_likes))\n",
    "print(np.mean(sample_mean_com))\n",
    "print(np.mean(sample_mean_ret))"
   ]
  },
  {
   "cell_type": "markdown",
   "metadata": {},
   "source": [
    "#### Histograma das médias gerada pela amostra"
   ]
  },
  {
   "cell_type": "markdown",
   "metadata": {},
   "source": [
    "##### Likes"
   ]
  },
  {
   "cell_type": "code",
   "execution_count": 88,
   "metadata": {},
   "outputs": [
    {
     "data": {
      "text/plain": [
       "8"
      ]
     },
     "execution_count": 88,
     "metadata": {},
     "output_type": "execute_result"
    }
   ],
   "source": [
    "k = math.ceil(1 + 3.3 * math.log10(len(sample_mean_likes)))\n",
    "k"
   ]
  },
  {
   "cell_type": "code",
   "execution_count": 90,
   "metadata": {
    "scrolled": false
   },
   "outputs": [
    {
     "data": {
      "image/png": "[encoded data removed]",
      "text/plain": [
       "<Figure size 432x288 with 1 Axes>"
      ]
     },
     "metadata": {
      "needs_background": "light"
     },
     "output_type": "display_data"
    }
   ],
   "source": [
    "plt.hist(sample_mean_likes, bins=k) \n",
    "plt.show()"
   ]
  },
  {
   "cell_type": "markdown",
   "metadata": {},
   "source": [
    "##### Comentarios"
   ]
  },
  {
   "cell_type": "code",
   "execution_count": 91,
   "metadata": {},
   "outputs": [
    {
     "data": {
      "text/plain": [
       "8"
      ]
     },
     "execution_count": 91,
     "metadata": {},
     "output_type": "execute_result"
    }
   ],
   "source": [
    "k = math.ceil(1 + 3.3 * math.log10(len(sample_mean_com)))\n",
    "k"
   ]
  },
  {
   "cell_type": "code",
   "execution_count": 92,
   "metadata": {},
   "outputs": [
    {
     "data": {
      "image/png": "[encoded data removed]",
      "text/plain": [
       "<Figure size 432x288 with 1 Axes>"
      ]
     },
     "metadata": {
      "needs_background": "light"
     },
     "output_type": "display_data"
    }
   ],
   "source": [
    "plt.hist(sample_mean_com, bins=k) \n",
    "plt.show()"
   ]
  },
  {
   "cell_type": "markdown",
   "metadata": {},
   "source": [
    "##### Retweets"
   ]
  },
  {
   "cell_type": "code",
   "execution_count": 93,
   "metadata": {},
   "outputs": [
    {
     "data": {
      "text/plain": [
       "8"
      ]
     },
     "execution_count": 93,
     "metadata": {},
     "output_type": "execute_result"
    }
   ],
   "source": [
    "k = math.ceil(1 + 3.3 * math.log10(len(sample_mean_ret)))\n",
    "k"
   ]
  },
  {
   "cell_type": "code",
   "execution_count": 94,
   "metadata": {},
   "outputs": [
    {
     "data": {
      "image/png": "[encoded data removed]",
      "text/plain": [
       "<Figure size 432x288 with 1 Axes>"
      ]
     },
     "metadata": {
      "needs_background": "light"
     },
     "output_type": "display_data"
    }
   ],
   "source": [
    "plt.hist(sample_mean_ret, bins=k) \n",
    "plt.show()"
   ]
  },
  {
   "cell_type": "markdown",
   "metadata": {},
   "source": [
    "### Distribuição normal"
   ]
  },
  {
   "cell_type": "code",
   "execution_count": 113,
   "metadata": {
    "scrolled": true
   },
   "outputs": [],
   "source": [
    "freq_df_likes = df_red.groupby('Likes').size().reset_index(name='Fabs')\n",
    "freq_df_com = df_red.groupby('Comentarios').size().reset_index(name='Fabs')\n",
    "freq_df_ret = df_red.groupby('Retweets').size().reset_index(name='Fabs')"
   ]
  },
  {
   "cell_type": "code",
   "execution_count": 123,
   "metadata": {
    "scrolled": true
   },
   "outputs": [],
   "source": [
    "length = freq_df_com['Comentarios']\n",
    "labels = freq_df_com['Fabs']"
   ]
  },
  {
   "cell_type": "code",
   "execution_count": 124,
   "metadata": {
    "scrolled": false
   },
   "outputs": [
    {
     "data": {
      "image/png": "[encoded data removed]",
      "text/plain": [
       "<Figure size 640x480 with 1 Axes>"
      ]
     },
     "metadata": {},
     "output_type": "display_data"
    },
    {
     "data": {
      "text/plain": [
       "<ggplot: (146629221102)>"
      ]
     },
     "execution_count": 124,
     "metadata": {},
     "output_type": "execute_result"
    }
   ],
   "source": [
    "(ggplot(freq_df_com, aes(freq_df_com['Comentarios'],'Fabs'))\n",
    "  + geom_col(fill='red')\n",
    "  + scale_x_continuous(breaks=length, labels=labels)\n",
    "  + theme_light()\n",
    "  + xlab('Comprimento')\n",
    "  + ylab('Frequência')\n",
    ")"
   ]
  },
  {
   "cell_type": "markdown",
   "metadata": {},
   "source": [
    "### Distribuição normal de amostras"
   ]
  },
  {
   "cell_type": "code",
   "execution_count": 168,
   "metadata": {
    "scrolled": false
   },
   "outputs": [
    {
     "data": {
      "image/png": "[encoded data removed]",
      "text/plain": [
       "<Figure size 640x343.77 with 1 Axes>"
      ]
     },
     "metadata": {},
     "output_type": "display_data"
    },
    {
     "data": {
      "text/plain": [
       "<ggplot: (146624127016)>"
      ]
     },
     "execution_count": 168,
     "metadata": {},
     "output_type": "execute_result"
    }
   ],
   "source": [
    "rs_likes = random.sample(likes, 100)\n",
    "\n",
    "df_rs_likes = pd.DataFrame(np.array(rs_likes), columns = list(\"a\"))\n",
    "df_rs_likes.rename(columns={'a': 'Likes'}, inplace = True)\n",
    "\n",
    "filtro = df_rs_likes['Likes'] < 1000\n",
    "df_rs_likes = df_rs_likes[filtro]\n",
    "\n",
    "freq_df_likes = df_rs_likes.groupby('Likes').size().reset_index(name='Fabs')\n",
    "#freq_df_com = df_red.groupby('Comentarios').size().reset_index(name='Fabs')\n",
    "#freq_df_ret = df_red.groupby('Retweets').size().reset_index(name='Fabs')\n",
    "\n",
    "length = freq_df_likes['Likes']\n",
    "labels = freq_df_likes['Fabs']\n",
    "\n",
    "(ggplot(freq_df_likes, aes(freq_df_likes['Likes'],'Fabs'))\n",
    "  + geom_col(fill='red')\n",
    "  + scale_x_continuous(breaks=length, labels=labels)\n",
    "  + theme_light()\n",
    "  + xlab('Comprimento')\n",
    "  + ylab('Frequência')\n",
    "  + coord_fixed(ratio=50)\n",
    ")"
   ]
  },
  {
   "cell_type": "markdown",
   "metadata": {},
   "source": [
    "### Aplicando normalização z-score"
   ]
  },
  {
   "cell_type": "code",
   "execution_count": 178,
   "metadata": {},
   "outputs": [
    {
     "data": {
      "text/plain": [
       "array([-0.13791429, -0.1373862 , -0.124184  , ..., -0.13844238,\n",
       "       -0.13844238, -0.1373862 ])"
      ]
     },
     "execution_count": 178,
     "metadata": {},
     "output_type": "execute_result"
    }
   ],
   "source": [
    "df_red_z = stats.zscore(df_red['Likes'])\n",
    "df_red_z"
   ]
  },
  {
   "cell_type": "code",
   "execution_count": 179,
   "metadata": {},
   "outputs": [
    {
     "data": {
      "image/png": "[encoded data removed]",
      "text/plain": [
       "<Figure size 432x288 with 1 Axes>"
      ]
     },
     "metadata": {
      "needs_background": "light"
     },
     "output_type": "display_data"
    }
   ],
   "source": [
    "plt.hist(df_red_z) \n",
    "plt.show()"
   ]
  },
  {
   "cell_type": "markdown",
   "metadata": {},
   "source": [
    "#### QQPlot"
   ]
  },
  {
   "cell_type": "code",
   "execution_count": 180,
   "metadata": {
    "scrolled": true
   },
   "outputs": [
    {
     "data": {
      "image/png": "[encoded data removed]",
      "text/plain": [
       "<Figure size 432x288 with 1 Axes>"
      ]
     },
     "metadata": {
      "needs_background": "light"
     },
     "output_type": "display_data"
    }
   ],
   "source": [
    "sm.qqplot(df_red_z, line ='45') \n",
    "py.show()"
   ]
  },
  {
   "cell_type": "markdown",
   "metadata": {},
   "source": [
    "### Transformação logarítimica"
   ]
  },
  {
   "cell_type": "markdown",
   "metadata": {},
   "source": [
    "#### scaterplot de relação entre Likes e Retweets orginal"
   ]
  },
  {
   "cell_type": "code",
   "execution_count": 192,
   "metadata": {},
   "outputs": [
    {
     "data": {
      "image/png": "[encoded data removed]",
      "text/plain": [
       "<Figure size 640x480 with 1 Axes>"
      ]
     },
     "metadata": {},
     "output_type": "display_data"
    },
    {
     "data": {
      "text/plain": [
       "<ggplot: (146627230838)>"
      ]
     },
     "execution_count": 192,
     "metadata": {},
     "output_type": "execute_result"
    }
   ],
   "source": [
    "(ggplot(df_red, aes(df_red['Likes']+1, df_red['Retweets']+1))\n",
    "+ geom_point() \n",
    "+ geom_smooth(method='lm')\n",
    ")"
   ]
  },
  {
   "cell_type": "markdown",
   "metadata": {},
   "source": [
    "#### scaterplot de relação entre Likes e Retweets aplicando logaritmo"
   ]
  },
  {
   "cell_type": "code",
   "execution_count": 188,
   "metadata": {
    "scrolled": false
   },
   "outputs": [
    {
     "data": {
      "image/png": "[encoded data removed]",
      "text/plain": [
       "<Figure size 640x480 with 1 Axes>"
      ]
     },
     "metadata": {},
     "output_type": "display_data"
    },
    {
     "data": {
      "text/plain": [
       "<ggplot: (146624200102)>"
      ]
     },
     "execution_count": 188,
     "metadata": {},
     "output_type": "execute_result"
    }
   ],
   "source": [
    "(ggplot(df_red, aes(np.log(df_red['Likes']+1), np.log(df_red['Retweets']+1)))\n",
    "+ geom_point() #### scaterplot de relação entre Likes e Retweets orginal\n",
    "+ geom_smooth(method='lm')\n",
    ")"
   ]
  },
  {
   "cell_type": "markdown",
   "metadata": {},
   "source": [
    "#### Histograma dos dados normalizados por transformação logaritmica"
   ]
  },
  {
   "cell_type": "code",
   "execution_count": 193,
   "metadata": {},
   "outputs": [
    {
     "data": {
      "text/plain": [
       "12"
      ]
     },
     "execution_count": 193,
     "metadata": {},
     "output_type": "execute_result"
    }
   ],
   "source": [
    "k = math.ceil(1 + 3.3 * math.log10( df_red['Likes'].size ))\n",
    "k"
   ]
  },
  {
   "cell_type": "code",
   "execution_count": 195,
   "metadata": {},
   "outputs": [
    {
     "data": {
      "image/png": "[encoded data removed]",
      "text/plain": [
       "<Figure size 432x288 with 1 Axes>"
      ]
     },
     "metadata": {
      "needs_background": "light"
     },
     "output_type": "display_data"
    }
   ],
   "source": [
    "plt.hist(np.log(df_red['Likes']+1), bins=k)\n",
    "plt.show()"
   ]
  }
 ],
 "metadata": {
  "kernelspec": {
   "display_name": "Python 3",
   "language": "python",
   "name": "python3"
  },
  "language_info": {
   "codemirror_mode": {
    "name": "ipython",
    "version": 3
   },
   "file_extension": ".py",
   "mimetype": "text/x-python",
   "name": "python",
   "nbconvert_exporter": "python",
   "pygments_lexer": "ipython3",
   "version": "3.8.3"
  }
 },
 "nbformat": 4,
 "nbformat_minor": 4
}
