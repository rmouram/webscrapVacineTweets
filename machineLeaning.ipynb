{
 "cells": [
  {
   "cell_type": "markdown",
   "metadata": {},
   "source": [
    "**<h1>MACHINE LEARNING</h1>**"
   ]
  },
  {
   "cell_type": "markdown",
   "metadata": {},
   "source": [
    "1 - unir as colunas de respostas\n",
    "2 - catalogar as labels um por um.\n",
    "3 - usar word2vec para vetorizar os tweets\n",
    "4 - aplicar tecnicas de ml\n",
    "5 - checar resultados\n",
    "6 - aplicar tecnicas que melhorem os resultados\n",
    "7 - avaliação."
   ]
  },
  {
   "cell_type": "code",
   "execution_count": 1,
   "metadata": {},
   "outputs": [],
   "source": [
    "import pandas as pd"
   ]
  },
  {
   "cell_type": "code",
   "execution_count": 3,
   "metadata": {},
   "outputs": [],
   "source": [
    "df = pd.read_csv('vacine_tweets_completoDezJanFevTratado.csv')"
   ]
  },
  {
   "cell_type": "code",
   "execution_count": 4,
   "metadata": {
    "scrolled": true
   },
   "outputs": [
    {
     "data": {
      "text/html": [
       "<div>\n",
       "<style scoped>\n",
       "    .dataframe tbody tr th:only-of-type {\n",
       "        vertical-align: middle;\n",
       "    }\n",
       "\n",
       "    .dataframe tbody tr th {\n",
       "        vertical-align: top;\n",
       "    }\n",
       "\n",
       "    .dataframe thead th {\n",
       "        text-align: right;\n",
       "    }\n",
       "</style>\n",
       "<table border=\"1\" class=\"dataframe\">\n",
       "  <thead>\n",
       "    <tr style=\"text-align: right;\">\n",
       "      <th></th>\n",
       "      <th>Apelido</th>\n",
       "      <th>Username</th>\n",
       "      <th>Data/Hora</th>\n",
       "      <th>Respondendo</th>\n",
       "      <th>Texto</th>\n",
       "      <th>link_img</th>\n",
       "      <th>Comentarios</th>\n",
       "      <th>Retweets</th>\n",
       "      <th>Likes</th>\n",
       "    </tr>\n",
       "  </thead>\n",
       "  <tbody>\n",
       "    <tr>\n",
       "      <th>0</th>\n",
       "      <td>Eder Morselli</td>\n",
       "      <td>@edermorselli</td>\n",
       "      <td>2020-11-30T23:54:49.000Z</td>\n",
       "      <td>A pandemia não acabou... Vamos nos proteger......</td>\n",
       "      <td>NaN</td>\n",
       "      <td>https://pbs.twimg.com/media/EoHB4fVXMAEdkk5?fo...</td>\n",
       "      <td>0</td>\n",
       "      <td>1</td>\n",
       "      <td>1</td>\n",
       "    </tr>\n",
       "    <tr>\n",
       "      <th>1</th>\n",
       "      <td>V</td>\n",
       "      <td>@VR_SSC</td>\n",
       "      <td>2020-11-30T23:53:24.000Z</td>\n",
       "      <td>Em resposta a \\n@KooperHD</td>\n",
       "      <td>Os caras tacam capa variante logo quando a kug...</td>\n",
       "      <td>https://abs-0.twimg.com/emoji/v2/72x72/1f643.png</td>\n",
       "      <td>0</td>\n",
       "      <td>0</td>\n",
       "      <td>2</td>\n",
       "    </tr>\n",
       "    <tr>\n",
       "      <th>2</th>\n",
       "      <td>Lucas França</td>\n",
       "      <td>@FrancaComAmor</td>\n",
       "      <td>2020-11-30T23:53:32.000Z</td>\n",
       "      <td>Publico na \\n@RevistaEpoca\\n um papo que tive ...</td>\n",
       "      <td>Covid-19: Quem deve receber primeiro a vacina?...</td>\n",
       "      <td>https://pbs.twimg.com/card_img/136204193687451...</td>\n",
       "      <td>0</td>\n",
       "      <td>6</td>\n",
       "      <td>27</td>\n",
       "    </tr>\n",
       "    <tr>\n",
       "      <th>3</th>\n",
       "      <td>calcinha chromatica</td>\n",
       "      <td>@fckwithmyselff</td>\n",
       "      <td>2020-11-30T23:52:55.000Z</td>\n",
       "      <td>eu só penso nela (a vacina)</td>\n",
       "      <td>NaN</td>\n",
       "      <td>https://pbs.twimg.com/media/EoHBcUKWEAEcXHx?fo...</td>\n",
       "      <td>1</td>\n",
       "      <td>4</td>\n",
       "      <td>4</td>\n",
       "    </tr>\n",
       "    <tr>\n",
       "      <th>4</th>\n",
       "      <td>Rafa_SCH</td>\n",
       "      <td>@RafaSCHk</td>\n",
       "      <td>2020-11-30T23:54:43.000Z</td>\n",
       "      <td>Difícil, mas acho que pegaria a variante</td>\n",
       "      <td>Comentar o Tweet\\nKooper // 110K no Youtube\\n@...</td>\n",
       "      <td>https://pbs.twimg.com/profile_images/129763947...</td>\n",
       "      <td>0</td>\n",
       "      <td>0</td>\n",
       "      <td>1</td>\n",
       "    </tr>\n",
       "    <tr>\n",
       "      <th>...</th>\n",
       "      <td>...</td>\n",
       "      <td>...</td>\n",
       "      <td>...</td>\n",
       "      <td>...</td>\n",
       "      <td>...</td>\n",
       "      <td>...</td>\n",
       "      <td>...</td>\n",
       "      <td>...</td>\n",
       "      <td>...</td>\n",
       "    </tr>\n",
       "    <tr>\n",
       "      <th>2120</th>\n",
       "      <td>vını</td>\n",
       "      <td>@vnftn</td>\n",
       "      <td>2021-02-19T23:29:46.000Z</td>\n",
       "      <td>Em resposta a \\n@todasemanaum\\n @LOUDgg\\n e ma...</td>\n",
       "      <td>Quando corona passar vai ter copa do mundo val...</td>\n",
       "      <td>https://abs-0.twimg.com/emoji/v2/72x72/1f976.png</td>\n",
       "      <td>0</td>\n",
       "      <td>0</td>\n",
       "      <td>0</td>\n",
       "    </tr>\n",
       "    <tr>\n",
       "      <th>2121</th>\n",
       "      <td>UOL Notícias</td>\n",
       "      <td>@UOLNoticias</td>\n",
       "      <td>2021-02-19T22:12:22.000Z</td>\n",
       "      <td>Com UTIs cheias, interior de SP transfere paci...</td>\n",
       "      <td>Com UTIs cheias, interior de SP transfere paci...</td>\n",
       "      <td>https://pbs.twimg.com/card_img/136288568773806...</td>\n",
       "      <td>8</td>\n",
       "      <td>15</td>\n",
       "      <td>76</td>\n",
       "    </tr>\n",
       "    <tr>\n",
       "      <th>2122</th>\n",
       "      <td>n_rto</td>\n",
       "      <td>@n_rto</td>\n",
       "      <td>2021-02-19T23:13:19.000Z</td>\n",
       "      <td>O Antagonista: deputado defende abertura de es...</td>\n",
       "      <td>Comentar o Tweet\\nGabriel Azevedo\\n@gabrielaze...</td>\n",
       "      <td>https://pbs.twimg.com/profile_images/132857609...</td>\n",
       "      <td>0</td>\n",
       "      <td>0</td>\n",
       "      <td>0</td>\n",
       "    </tr>\n",
       "    <tr>\n",
       "      <th>2123</th>\n",
       "      <td>𝐬𝐭𝐞⁹⁹☂︎</td>\n",
       "      <td>@gellerscss</td>\n",
       "      <td>2021-02-19T23:52:38.000Z</td>\n",
       "      <td>Em resposta a \\n@SeriesTWBZ</td>\n",
       "      <td>depois de tomar vacina  #KCA\\n  #VoteCobraKai</td>\n",
       "      <td>https://abs.twimg.com/hashflags/Nickelodeon_KC...</td>\n",
       "      <td>0</td>\n",
       "      <td>0</td>\n",
       "      <td>0</td>\n",
       "    </tr>\n",
       "    <tr>\n",
       "      <th>2124</th>\n",
       "      <td>Francisco Morais / / 217.712</td>\n",
       "      <td>@fcrmorais</td>\n",
       "      <td>2021-02-19T23:15:31.000Z</td>\n",
       "      <td>Bolsonaro só é comparável atualmente a líderes...</td>\n",
       "      <td>NaN</td>\n",
       "      <td>https://pbs.twimg.com/media/EuoBp6QXIAQgvtE?fo...</td>\n",
       "      <td>1</td>\n",
       "      <td>1</td>\n",
       "      <td>2</td>\n",
       "    </tr>\n",
       "  </tbody>\n",
       "</table>\n",
       "<p>2125 rows × 9 columns</p>\n",
       "</div>"
      ],
      "text/plain": [
       "                           Apelido         Username                 Data/Hora  \\\n",
       "0                    Eder Morselli    @edermorselli  2020-11-30T23:54:49.000Z   \n",
       "1                                V          @VR_SSC  2020-11-30T23:53:24.000Z   \n",
       "2                     Lucas França   @FrancaComAmor  2020-11-30T23:53:32.000Z   \n",
       "3              calcinha chromatica  @fckwithmyselff  2020-11-30T23:52:55.000Z   \n",
       "4                         Rafa_SCH        @RafaSCHk  2020-11-30T23:54:43.000Z   \n",
       "...                            ...              ...                       ...   \n",
       "2120                          vını           @vnftn  2021-02-19T23:29:46.000Z   \n",
       "2121                  UOL Notícias     @UOLNoticias  2021-02-19T22:12:22.000Z   \n",
       "2122                         n_rto           @n_rto  2021-02-19T23:13:19.000Z   \n",
       "2123                       𝐬𝐭𝐞⁹⁹☂︎      @gellerscss  2021-02-19T23:52:38.000Z   \n",
       "2124  Francisco Morais / / 217.712       @fcrmorais  2021-02-19T23:15:31.000Z   \n",
       "\n",
       "                                            Respondendo  \\\n",
       "0     A pandemia não acabou... Vamos nos proteger......   \n",
       "1                             Em resposta a \\n@KooperHD   \n",
       "2     Publico na \\n@RevistaEpoca\\n um papo que tive ...   \n",
       "3                           eu só penso nela (a vacina)   \n",
       "4              Difícil, mas acho que pegaria a variante   \n",
       "...                                                 ...   \n",
       "2120  Em resposta a \\n@todasemanaum\\n @LOUDgg\\n e ma...   \n",
       "2121  Com UTIs cheias, interior de SP transfere paci...   \n",
       "2122  O Antagonista: deputado defende abertura de es...   \n",
       "2123                        Em resposta a \\n@SeriesTWBZ   \n",
       "2124  Bolsonaro só é comparável atualmente a líderes...   \n",
       "\n",
       "                                                  Texto  \\\n",
       "0                                                   NaN   \n",
       "1     Os caras tacam capa variante logo quando a kug...   \n",
       "2     Covid-19: Quem deve receber primeiro a vacina?...   \n",
       "3                                                   NaN   \n",
       "4     Comentar o Tweet\\nKooper // 110K no Youtube\\n@...   \n",
       "...                                                 ...   \n",
       "2120  Quando corona passar vai ter copa do mundo val...   \n",
       "2121  Com UTIs cheias, interior de SP transfere paci...   \n",
       "2122  Comentar o Tweet\\nGabriel Azevedo\\n@gabrielaze...   \n",
       "2123      depois de tomar vacina  #KCA\\n  #VoteCobraKai   \n",
       "2124                                                NaN   \n",
       "\n",
       "                                               link_img  Comentarios  \\\n",
       "0     https://pbs.twimg.com/media/EoHB4fVXMAEdkk5?fo...            0   \n",
       "1      https://abs-0.twimg.com/emoji/v2/72x72/1f643.png            0   \n",
       "2     https://pbs.twimg.com/card_img/136204193687451...            0   \n",
       "3     https://pbs.twimg.com/media/EoHBcUKWEAEcXHx?fo...            1   \n",
       "4     https://pbs.twimg.com/profile_images/129763947...            0   \n",
       "...                                                 ...          ...   \n",
       "2120   https://abs-0.twimg.com/emoji/v2/72x72/1f976.png            0   \n",
       "2121  https://pbs.twimg.com/card_img/136288568773806...            8   \n",
       "2122  https://pbs.twimg.com/profile_images/132857609...            0   \n",
       "2123  https://abs.twimg.com/hashflags/Nickelodeon_KC...            0   \n",
       "2124  https://pbs.twimg.com/media/EuoBp6QXIAQgvtE?fo...            1   \n",
       "\n",
       "      Retweets  Likes  \n",
       "0            1      1  \n",
       "1            0      2  \n",
       "2            6     27  \n",
       "3            4      4  \n",
       "4            0      1  \n",
       "...        ...    ...  \n",
       "2120         0      0  \n",
       "2121        15     76  \n",
       "2122         0      0  \n",
       "2123         0      0  \n",
       "2124         1      2  \n",
       "\n",
       "[2125 rows x 9 columns]"
      ]
     },
     "execution_count": 4,
     "metadata": {},
     "output_type": "execute_result"
    }
   ],
   "source": [
    "df"
   ]
  },
  {
   "cell_type": "code",
   "execution_count": 5,
   "metadata": {},
   "outputs": [],
   "source": [
    "df_x = df[[\"Respondendo\", \"Texto\"]].copy()"
   ]
  },
  {
   "cell_type": "code",
   "execution_count": 6,
   "metadata": {},
   "outputs": [
    {
     "data": {
      "text/plain": [
       "Respondendo      0\n",
       "Texto          982\n",
       "dtype: int64"
      ]
     },
     "execution_count": 6,
     "metadata": {},
     "output_type": "execute_result"
    }
   ],
   "source": [
    "df_x.isnull().sum()"
   ]
  },
  {
   "cell_type": "code",
   "execution_count": 7,
   "metadata": {},
   "outputs": [],
   "source": [
    "df_x['Texto'] = df_x['Texto'].fillna(\"\")"
   ]
  },
  {
   "cell_type": "code",
   "execution_count": 8,
   "metadata": {},
   "outputs": [],
   "source": [
    "df_x[\"tweet\"] = df_x[\"Respondendo\"] + \" \" + df_x[\"Texto\"]"
   ]
  },
  {
   "cell_type": "code",
   "execution_count": 9,
   "metadata": {},
   "outputs": [],
   "source": [
    "df_t = df_x.drop(columns=['Respondendo', 'Texto'])"
   ]
  },
  {
   "cell_type": "code",
   "execution_count": 9,
   "metadata": {},
   "outputs": [],
   "source": [
    "df_t.to_csv('tweetsReduzidos.csv', index=None,encoding='utf-8')"
   ]
  },
  {
   "cell_type": "code",
   "execution_count": 114,
   "metadata": {},
   "outputs": [],
   "source": [
    "df_t.to_excel('tweetsReduzidos1.xlsx', index=None)"
   ]
  },
  {
   "cell_type": "markdown",
   "metadata": {},
   "source": [
    "# PREPROCESSING"
   ]
  },
  {
   "cell_type": "code",
   "execution_count": 13,
   "metadata": {},
   "outputs": [
    {
     "name": "stderr",
     "output_type": "stream",
     "text": [
      "C:\\Users\\romul\\anaconda3\\lib\\site-packages\\gensim\\similarities\\__init__.py:15: UserWarning: The gensim.similarities.levenshtein submodule is disabled, because the optional Levenshtein package <https://pypi.org/project/python-Levenshtein/> is unavailable. Install Levenhstein (e.g. `pip install python-Levenshtein`) to suppress this warning.\n",
      "  warnings.warn(msg)\n"
     ]
    }
   ],
   "source": [
    "import re  # For preprocessing\n",
    "import pandas as pd  # For data handling\n",
    "from time import time  # To time our operations\n",
    "from collections import defaultdict  # For word frequency\n",
    "\n",
    "import gensim\n",
    "\n",
    "import spacy  # For preprocessing\n",
    "\n",
    "import logging  # Setting up the loggings to monitor gensim\n",
    "logging.basicConfig(format=\"%(levelname)s - %(asctime)s: %(message)s\", datefmt= '%H:%M:%S', level=logging.INFO)"
   ]
  },
  {
   "cell_type": "code",
   "execution_count": 11,
   "metadata": {
    "scrolled": true
   },
   "outputs": [
    {
     "data": {
      "text/plain": [
       "(2125, 1)"
      ]
     },
     "execution_count": 11,
     "metadata": {},
     "output_type": "execute_result"
    }
   ],
   "source": [
    "df_t.shape"
   ]
  },
  {
   "cell_type": "code",
   "execution_count": 10,
   "metadata": {},
   "outputs": [],
   "source": [
    "df_t = pd.read_csv('tweetsReduzidos.csv')"
   ]
  },
  {
   "cell_type": "code",
   "execution_count": 11,
   "metadata": {},
   "outputs": [
    {
     "data": {
      "text/html": [
       "<div>\n",
       "<style scoped>\n",
       "    .dataframe tbody tr th:only-of-type {\n",
       "        vertical-align: middle;\n",
       "    }\n",
       "\n",
       "    .dataframe tbody tr th {\n",
       "        vertical-align: top;\n",
       "    }\n",
       "\n",
       "    .dataframe thead th {\n",
       "        text-align: right;\n",
       "    }\n",
       "</style>\n",
       "<table border=\"1\" class=\"dataframe\">\n",
       "  <thead>\n",
       "    <tr style=\"text-align: right;\">\n",
       "      <th></th>\n",
       "      <th>tweet</th>\n",
       "    </tr>\n",
       "  </thead>\n",
       "  <tbody>\n",
       "    <tr>\n",
       "      <th>0</th>\n",
       "      <td>A pandemia não acabou... Vamos nos proteger......</td>\n",
       "    </tr>\n",
       "    <tr>\n",
       "      <th>1</th>\n",
       "      <td>Em resposta a \\n@KooperHD Os caras tacam capa ...</td>\n",
       "    </tr>\n",
       "    <tr>\n",
       "      <th>2</th>\n",
       "      <td>Publico na \\n@RevistaEpoca\\n um papo que tive ...</td>\n",
       "    </tr>\n",
       "    <tr>\n",
       "      <th>3</th>\n",
       "      <td>eu só penso nela (a vacina)</td>\n",
       "    </tr>\n",
       "    <tr>\n",
       "      <th>4</th>\n",
       "      <td>Difícil, mas acho que pegaria a variante Comen...</td>\n",
       "    </tr>\n",
       "    <tr>\n",
       "      <th>...</th>\n",
       "      <td>...</td>\n",
       "    </tr>\n",
       "    <tr>\n",
       "      <th>2120</th>\n",
       "      <td>Em resposta a \\n@todasemanaum\\n @LOUDgg\\n e ma...</td>\n",
       "    </tr>\n",
       "    <tr>\n",
       "      <th>2121</th>\n",
       "      <td>Com UTIs cheias, interior de SP transfere paci...</td>\n",
       "    </tr>\n",
       "    <tr>\n",
       "      <th>2122</th>\n",
       "      <td>O Antagonista: deputado defende abertura de es...</td>\n",
       "    </tr>\n",
       "    <tr>\n",
       "      <th>2123</th>\n",
       "      <td>Em resposta a \\n@SeriesTWBZ depois de tomar va...</td>\n",
       "    </tr>\n",
       "    <tr>\n",
       "      <th>2124</th>\n",
       "      <td>Bolsonaro só é comparável atualmente a líderes...</td>\n",
       "    </tr>\n",
       "  </tbody>\n",
       "</table>\n",
       "<p>2125 rows × 1 columns</p>\n",
       "</div>"
      ],
      "text/plain": [
       "                                                  tweet\n",
       "0     A pandemia não acabou... Vamos nos proteger......\n",
       "1     Em resposta a \\n@KooperHD Os caras tacam capa ...\n",
       "2     Publico na \\n@RevistaEpoca\\n um papo que tive ...\n",
       "3                          eu só penso nela (a vacina) \n",
       "4     Difícil, mas acho que pegaria a variante Comen...\n",
       "...                                                 ...\n",
       "2120  Em resposta a \\n@todasemanaum\\n @LOUDgg\\n e ma...\n",
       "2121  Com UTIs cheias, interior de SP transfere paci...\n",
       "2122  O Antagonista: deputado defende abertura de es...\n",
       "2123  Em resposta a \\n@SeriesTWBZ depois de tomar va...\n",
       "2124  Bolsonaro só é comparável atualmente a líderes...\n",
       "\n",
       "[2125 rows x 1 columns]"
      ]
     },
     "execution_count": 11,
     "metadata": {},
     "output_type": "execute_result"
    }
   ],
   "source": [
    "df_t"
   ]
  },
  {
   "cell_type": "markdown",
   "metadata": {},
   "source": [
    "### BIGRAMAS"
   ]
  },
  {
   "cell_type": "code",
   "execution_count": 79,
   "metadata": {},
   "outputs": [],
   "source": [
    "from gensim.models.phrases import Phrases, Phraser"
   ]
  },
  {
   "cell_type": "code",
   "execution_count": 80,
   "metadata": {},
   "outputs": [],
   "source": [
    "sent = [row.split() for row in df_t['tweet']]"
   ]
  },
  {
   "cell_type": "code",
   "execution_count": 81,
   "metadata": {},
   "outputs": [],
   "source": [
    "phrases = Phrases(sent, min_count=30, progress_per=10000)"
   ]
  },
  {
   "cell_type": "code",
   "execution_count": 82,
   "metadata": {},
   "outputs": [],
   "source": [
    "bigram = Phraser(phrases)"
   ]
  },
  {
   "cell_type": "code",
   "execution_count": 83,
   "metadata": {},
   "outputs": [],
   "source": [
    "sentences = bigram[sent]"
   ]
  },
  {
   "cell_type": "code",
   "execution_count": 26,
   "metadata": {},
   "outputs": [
    {
     "data": {
      "text/plain": [
       "17983"
      ]
     },
     "execution_count": 26,
     "metadata": {},
     "output_type": "execute_result"
    }
   ],
   "source": [
    "word_freq = defaultdict(int)\n",
    "for sent in sentences:\n",
    "    for i in sent:\n",
    "        word_freq[i] += 1\n",
    "len(word_freq)"
   ]
  },
  {
   "cell_type": "code",
   "execution_count": 27,
   "metadata": {},
   "outputs": [
    {
     "data": {
      "text/plain": [
       "['de', 'a', 'e', 'que', 'o', 'da', 'do', 'vacina', 'em', 'para']"
      ]
     },
     "execution_count": 27,
     "metadata": {},
     "output_type": "execute_result"
    }
   ],
   "source": [
    "sorted(word_freq, key=word_freq.get, reverse=True)[:10]"
   ]
  },
  {
   "cell_type": "markdown",
   "metadata": {},
   "source": [
    "### TREINANDO O MODELO"
   ]
  },
  {
   "cell_type": "code",
   "execution_count": 84,
   "metadata": {},
   "outputs": [],
   "source": [
    "import multiprocessing\n",
    "\n",
    "from gensim.models import Word2Vec"
   ]
  },
  {
   "cell_type": "code",
   "execution_count": 85,
   "metadata": {},
   "outputs": [
    {
     "data": {
      "text/plain": [
       "4"
      ]
     },
     "execution_count": 85,
     "metadata": {},
     "output_type": "execute_result"
    }
   ],
   "source": [
    "cores = multiprocessing.cpu_count()\n",
    "cores"
   ]
  },
  {
   "cell_type": "code",
   "execution_count": 86,
   "metadata": {},
   "outputs": [],
   "source": [
    "w2v_model = Word2Vec(min_count=2,\n",
    "                     window=5,\n",
    "                     vector_size=10,\n",
    "                     sample=6e-5, \n",
    "                     alpha=0.03, \n",
    "                     min_alpha=0.0007, \n",
    "                     negative=20,\n",
    "                     workers=cores-1,\n",
    "                    epochs=50)"
   ]
  },
  {
   "cell_type": "code",
   "execution_count": 87,
   "metadata": {},
   "outputs": [],
   "source": [
    "w2v_model.save(\"word2vec.wordvectors\")"
   ]
  },
  {
   "cell_type": "code",
   "execution_count": 88,
   "metadata": {
    "scrolled": true
   },
   "outputs": [],
   "source": [
    "w2v_model.build_vocab(sentences, progress_per=10000)"
   ]
  },
  {
   "cell_type": "code",
   "execution_count": 89,
   "metadata": {
    "scrolled": true
   },
   "outputs": [
    {
     "data": {
      "text/plain": [
       "(930197, 2300460)"
      ]
     },
     "execution_count": 89,
     "metadata": {},
     "output_type": "execute_result"
    }
   ],
   "source": [
    "w2v_model.train(sentences, total_examples=w2v_model.corpus_count, epochs=30, report_delay=1)"
   ]
  },
  {
   "cell_type": "code",
   "execution_count": 34,
   "metadata": {
    "scrolled": true
   },
   "outputs": [
    {
     "data": {
      "text/plain": [
       "array([ 0.3477075 , -0.8539045 ,  0.43761876, -0.02841874,  0.72045696,\n",
       "        1.104511  , -0.18680568,  1.4620262 , -1.260303  ,  0.30498236],\n",
       "      dtype=float32)"
      ]
     },
     "execution_count": 34,
     "metadata": {},
     "output_type": "execute_result"
    }
   ],
   "source": [
    "vector = w2v_model.wv['bolsonaro']\n",
    "vector"
   ]
  },
  {
   "cell_type": "code",
   "execution_count": 37,
   "metadata": {},
   "outputs": [],
   "source": [
    "vec = w2v_model.wv['bolsonaro']"
   ]
  },
  {
   "cell_type": "code",
   "execution_count": 38,
   "metadata": {},
   "outputs": [
    {
     "data": {
      "text/plain": [
       "[('bolsonaro', 1.0),\n",
       " ('conhecimento', 0.9991538524627686),\n",
       " ('bolsominion', 0.9990280866622925),\n",
       " ('locais', 0.9987854957580566),\n",
       " ('UBS', 0.9985707998275757),\n",
       " ('debate', 0.9984819293022156),\n",
       " ('si', 0.9983919262886047),\n",
       " ('chamada', 0.9983118772506714),\n",
       " ('#sp2', 0.9982222318649292),\n",
       " ('amigo', 0.9981968998908997)]"
      ]
     },
     "execution_count": 38,
     "metadata": {},
     "output_type": "execute_result"
    }
   ],
   "source": [
    "w2v_model.wv.most_similar(positive=[vec])"
   ]
  },
  {
   "cell_type": "code",
   "execution_count": 42,
   "metadata": {},
   "outputs": [
    {
     "data": {
      "text/plain": [
       "0.9546063"
      ]
     },
     "execution_count": 42,
     "metadata": {},
     "output_type": "execute_result"
    }
   ],
   "source": [
    "w2v_model.wv.similarity('bolsominion', 'vacina')"
   ]
  },
  {
   "cell_type": "markdown",
   "metadata": {},
   "source": [
    "### TREINANDO COM DOC2VEC"
   ]
  },
  {
   "cell_type": "code",
   "execution_count": 90,
   "metadata": {},
   "outputs": [],
   "source": [
    "import gensim"
   ]
  },
  {
   "cell_type": "code",
   "execution_count": 91,
   "metadata": {},
   "outputs": [],
   "source": [
    "def read_corpus(df_t, tokens_only=False):\n",
    "    for i in df_t[\"tweet\"]:\n",
    "        tokens = gensim.utils.simple_preprocess(i)\n",
    "        if tokens_only:\n",
    "            yield tokens\n",
    "        else:\n",
    "            yield gensim.models.doc2vec.TaggedDocument(tokens, [i])"
   ]
  },
  {
   "cell_type": "code",
   "execution_count": 92,
   "metadata": {},
   "outputs": [],
   "source": [
    "corpus = list(read_corpus(df_t))"
   ]
  },
  {
   "cell_type": "code",
   "execution_count": 93,
   "metadata": {},
   "outputs": [],
   "source": [
    "model = gensim.models.doc2vec.Doc2Vec(vector_size=10, min_count=2, epochs=40)"
   ]
  },
  {
   "cell_type": "code",
   "execution_count": 94,
   "metadata": {},
   "outputs": [],
   "source": [
    "model.build_vocab(corpus)"
   ]
  },
  {
   "cell_type": "code",
   "execution_count": 95,
   "metadata": {
    "scrolled": true
   },
   "outputs": [],
   "source": [
    "model.train(corpus, total_examples=model.corpus_count, epochs=model.epochs)"
   ]
  },
  {
   "cell_type": "code",
   "execution_count": 96,
   "metadata": {},
   "outputs": [
    {
     "name": "stdout",
     "output_type": "stream",
     "text": [
      "[ 0.05862779  0.00162674  0.02037181 -0.08301528  0.03194065  0.07401339\n",
      "  0.48601267  0.20121534 -0.69579995 -0.19577397]\n"
     ]
    }
   ],
   "source": [
    "vector = model.infer_vector(['A', 'pandemia', 'não', 'acabou'])\n",
    "print(vector)"
   ]
  },
  {
   "cell_type": "code",
   "execution_count": 97,
   "metadata": {},
   "outputs": [
    {
     "name": "stderr",
     "output_type": "stream",
     "text": [
      "[nltk_data] Downloading package punkt to\n",
      "[nltk_data]     C:\\Users\\romul\\AppData\\Roaming\\nltk_data...\n",
      "[nltk_data]   Package punkt is already up-to-date!\n"
     ]
    },
    {
     "data": {
      "text/plain": [
       "True"
      ]
     },
     "execution_count": 97,
     "metadata": {},
     "output_type": "execute_result"
    }
   ],
   "source": [
    "import nltk\n",
    "nltk.download('punkt')"
   ]
  },
  {
   "cell_type": "code",
   "execution_count": 98,
   "metadata": {},
   "outputs": [
    {
     "data": {
      "text/html": [
       "<div>\n",
       "<style scoped>\n",
       "    .dataframe tbody tr th:only-of-type {\n",
       "        vertical-align: middle;\n",
       "    }\n",
       "\n",
       "    .dataframe tbody tr th {\n",
       "        vertical-align: top;\n",
       "    }\n",
       "\n",
       "    .dataframe thead th {\n",
       "        text-align: right;\n",
       "    }\n",
       "</style>\n",
       "<table border=\"1\" class=\"dataframe\">\n",
       "  <thead>\n",
       "    <tr style=\"text-align: right;\">\n",
       "      <th></th>\n",
       "      <th>tweet</th>\n",
       "      <th>y</th>\n",
       "    </tr>\n",
       "  </thead>\n",
       "  <tbody>\n",
       "    <tr>\n",
       "      <th>0</th>\n",
       "      <td>[-0.16756459 -0.25380713  0.00172649 -0.083690...</td>\n",
       "      <td>0</td>\n",
       "    </tr>\n",
       "    <tr>\n",
       "      <th>1</th>\n",
       "      <td>[-0.0141285  -0.09096924 -0.49570632 -0.094470...</td>\n",
       "      <td>0</td>\n",
       "    </tr>\n",
       "    <tr>\n",
       "      <th>2</th>\n",
       "      <td>[-0.42473194 -0.5366614  -0.03413643 -0.356889...</td>\n",
       "      <td>0</td>\n",
       "    </tr>\n",
       "    <tr>\n",
       "      <th>3</th>\n",
       "      <td>[ 0.06222841  0.02009614  0.05173865  0.139120...</td>\n",
       "      <td>0</td>\n",
       "    </tr>\n",
       "    <tr>\n",
       "      <th>4</th>\n",
       "      <td>[-1.5607463e-02  7.8439993e-01 -1.3763020e-02 ...</td>\n",
       "      <td>0</td>\n",
       "    </tr>\n",
       "    <tr>\n",
       "      <th>5</th>\n",
       "      <td>[ 0.1437726  -0.00832112  0.24646358 -0.049779...</td>\n",
       "      <td>0</td>\n",
       "    </tr>\n",
       "    <tr>\n",
       "      <th>6</th>\n",
       "      <td>[ 5.4742046e-02  7.1585990e-02 -6.6739537e-02 ...</td>\n",
       "      <td>0</td>\n",
       "    </tr>\n",
       "    <tr>\n",
       "      <th>7</th>\n",
       "      <td>[ 0.23935327 -0.27494898  0.3203835   0.308783...</td>\n",
       "      <td>0</td>\n",
       "    </tr>\n",
       "    <tr>\n",
       "      <th>8</th>\n",
       "      <td>[-0.10997692  0.3096803   0.0071757  -0.062270...</td>\n",
       "      <td>0</td>\n",
       "    </tr>\n",
       "    <tr>\n",
       "      <th>9</th>\n",
       "      <td>[-0.39370605  0.22923796  0.4451299  -0.049135...</td>\n",
       "      <td>0</td>\n",
       "    </tr>\n",
       "    <tr>\n",
       "      <th>10</th>\n",
       "      <td>[ 0.26283595 -0.60228455 -0.00933404  0.471641...</td>\n",
       "      <td>1</td>\n",
       "    </tr>\n",
       "    <tr>\n",
       "      <th>11</th>\n",
       "      <td>[-0.07637039  0.2138035  -0.270198    0.733204...</td>\n",
       "      <td>0</td>\n",
       "    </tr>\n",
       "    <tr>\n",
       "      <th>12</th>\n",
       "      <td>[-0.06356447 -0.28105763 -0.30422002 -0.025069...</td>\n",
       "      <td>0</td>\n",
       "    </tr>\n",
       "    <tr>\n",
       "      <th>13</th>\n",
       "      <td>[ 0.2613258   0.13177536  1.022107    0.658506...</td>\n",
       "      <td>0</td>\n",
       "    </tr>\n",
       "    <tr>\n",
       "      <th>14</th>\n",
       "      <td>[ 0.05009418  0.00606308 -0.19412799  0.075928...</td>\n",
       "      <td>0</td>\n",
       "    </tr>\n",
       "  </tbody>\n",
       "</table>\n",
       "</div>"
      ],
      "text/plain": [
       "                                                tweet  y\n",
       "0   [-0.16756459 -0.25380713  0.00172649 -0.083690...  0\n",
       "1   [-0.0141285  -0.09096924 -0.49570632 -0.094470...  0\n",
       "2   [-0.42473194 -0.5366614  -0.03413643 -0.356889...  0\n",
       "3   [ 0.06222841  0.02009614  0.05173865  0.139120...  0\n",
       "4   [-1.5607463e-02  7.8439993e-01 -1.3763020e-02 ...  0\n",
       "5   [ 0.1437726  -0.00832112  0.24646358 -0.049779...  0\n",
       "6   [ 5.4742046e-02  7.1585990e-02 -6.6739537e-02 ...  0\n",
       "7   [ 0.23935327 -0.27494898  0.3203835   0.308783...  0\n",
       "8   [-0.10997692  0.3096803   0.0071757  -0.062270...  0\n",
       "9   [-0.39370605  0.22923796  0.4451299  -0.049135...  0\n",
       "10  [ 0.26283595 -0.60228455 -0.00933404  0.471641...  1\n",
       "11  [-0.07637039  0.2138035  -0.270198    0.733204...  0\n",
       "12  [-0.06356447 -0.28105763 -0.30422002 -0.025069...  0\n",
       "13  [ 0.2613258   0.13177536  1.022107    0.658506...  0\n",
       "14  [ 0.05009418  0.00606308 -0.19412799  0.075928...  0"
      ]
     },
     "execution_count": 98,
     "metadata": {},
     "output_type": "execute_result"
    }
   ],
   "source": [
    "df_y.head(15)"
   ]
  },
  {
   "cell_type": "code",
   "execution_count": 37,
   "metadata": {},
   "outputs": [],
   "source": [
    "for i in range(len(df_y)):\n",
    "    sentence = str(df_y[\"tweet\"][i])\n",
    "    tokens = nltk.word_tokenize(sentence)\n",
    "    tokens = list(tokens)\n",
    "    vector = model.infer_vector(tokens)\n",
    "    df_y[\"tweet\"][i] = vector"
   ]
  },
  {
   "cell_type": "code",
   "execution_count": null,
   "metadata": {},
   "outputs": [],
   "source": [
    "df_y.to_csv('tweetsClassificadosTransformados.csv', index=None,encoding='utf-8')"
   ]
  },
  {
   "cell_type": "code",
   "execution_count": 71,
   "metadata": {},
   "outputs": [
    {
     "name": "stdout",
     "output_type": "stream",
     "text": [
      "<class 'pandas.core.frame.DataFrame'>\n",
      "RangeIndex: 2108 entries, 0 to 2107\n",
      "Data columns (total 2 columns):\n",
      " #   Column  Non-Null Count  Dtype \n",
      "---  ------  --------------  ----- \n",
      " 0   tweet   2108 non-null   object\n",
      " 1   y       2108 non-null   int64 \n",
      "dtypes: int64(1), object(1)\n",
      "memory usage: 33.1+ KB\n"
     ]
    }
   ],
   "source": [
    "df = pd.read_csv('tweetsClassificadosTransformados.csv', error_bad_lines=False)\n",
    "df.info()"
   ]
  },
  {
   "cell_type": "code",
   "execution_count": 72,
   "metadata": {
    "scrolled": true
   },
   "outputs": [
    {
     "data": {
      "text/html": [
       "<div>\n",
       "<style scoped>\n",
       "    .dataframe tbody tr th:only-of-type {\n",
       "        vertical-align: middle;\n",
       "    }\n",
       "\n",
       "    .dataframe tbody tr th {\n",
       "        vertical-align: top;\n",
       "    }\n",
       "\n",
       "    .dataframe thead th {\n",
       "        text-align: right;\n",
       "    }\n",
       "</style>\n",
       "<table border=\"1\" class=\"dataframe\">\n",
       "  <thead>\n",
       "    <tr style=\"text-align: right;\">\n",
       "      <th></th>\n",
       "      <th>tweet</th>\n",
       "      <th>y</th>\n",
       "    </tr>\n",
       "  </thead>\n",
       "  <tbody>\n",
       "    <tr>\n",
       "      <th>0</th>\n",
       "      <td>[-0.16756459 -0.25380713  0.00172649 -0.083690...</td>\n",
       "      <td>0</td>\n",
       "    </tr>\n",
       "    <tr>\n",
       "      <th>1</th>\n",
       "      <td>[-0.0141285  -0.09096924 -0.49570632 -0.094470...</td>\n",
       "      <td>0</td>\n",
       "    </tr>\n",
       "    <tr>\n",
       "      <th>2</th>\n",
       "      <td>[-0.42473194 -0.5366614  -0.03413643 -0.356889...</td>\n",
       "      <td>0</td>\n",
       "    </tr>\n",
       "    <tr>\n",
       "      <th>3</th>\n",
       "      <td>[ 0.06222841  0.02009614  0.05173865  0.139120...</td>\n",
       "      <td>0</td>\n",
       "    </tr>\n",
       "    <tr>\n",
       "      <th>4</th>\n",
       "      <td>[-1.5607463e-02  7.8439993e-01 -1.3763020e-02 ...</td>\n",
       "      <td>0</td>\n",
       "    </tr>\n",
       "    <tr>\n",
       "      <th>5</th>\n",
       "      <td>[ 0.1437726  -0.00832112  0.24646358 -0.049779...</td>\n",
       "      <td>0</td>\n",
       "    </tr>\n",
       "    <tr>\n",
       "      <th>6</th>\n",
       "      <td>[ 5.4742046e-02  7.1585990e-02 -6.6739537e-02 ...</td>\n",
       "      <td>0</td>\n",
       "    </tr>\n",
       "    <tr>\n",
       "      <th>7</th>\n",
       "      <td>[ 0.23935327 -0.27494898  0.3203835   0.308783...</td>\n",
       "      <td>0</td>\n",
       "    </tr>\n",
       "    <tr>\n",
       "      <th>8</th>\n",
       "      <td>[-0.10997692  0.3096803   0.0071757  -0.062270...</td>\n",
       "      <td>0</td>\n",
       "    </tr>\n",
       "    <tr>\n",
       "      <th>9</th>\n",
       "      <td>[-0.39370605  0.22923796  0.4451299  -0.049135...</td>\n",
       "      <td>0</td>\n",
       "    </tr>\n",
       "    <tr>\n",
       "      <th>10</th>\n",
       "      <td>[ 0.26283595 -0.60228455 -0.00933404  0.471641...</td>\n",
       "      <td>1</td>\n",
       "    </tr>\n",
       "    <tr>\n",
       "      <th>11</th>\n",
       "      <td>[-0.07637039  0.2138035  -0.270198    0.733204...</td>\n",
       "      <td>0</td>\n",
       "    </tr>\n",
       "    <tr>\n",
       "      <th>12</th>\n",
       "      <td>[-0.06356447 -0.28105763 -0.30422002 -0.025069...</td>\n",
       "      <td>0</td>\n",
       "    </tr>\n",
       "    <tr>\n",
       "      <th>13</th>\n",
       "      <td>[ 0.2613258   0.13177536  1.022107    0.658506...</td>\n",
       "      <td>0</td>\n",
       "    </tr>\n",
       "    <tr>\n",
       "      <th>14</th>\n",
       "      <td>[ 0.05009418  0.00606308 -0.19412799  0.075928...</td>\n",
       "      <td>0</td>\n",
       "    </tr>\n",
       "  </tbody>\n",
       "</table>\n",
       "</div>"
      ],
      "text/plain": [
       "                                                tweet  y\n",
       "0   [-0.16756459 -0.25380713  0.00172649 -0.083690...  0\n",
       "1   [-0.0141285  -0.09096924 -0.49570632 -0.094470...  0\n",
       "2   [-0.42473194 -0.5366614  -0.03413643 -0.356889...  0\n",
       "3   [ 0.06222841  0.02009614  0.05173865  0.139120...  0\n",
       "4   [-1.5607463e-02  7.8439993e-01 -1.3763020e-02 ...  0\n",
       "5   [ 0.1437726  -0.00832112  0.24646358 -0.049779...  0\n",
       "6   [ 5.4742046e-02  7.1585990e-02 -6.6739537e-02 ...  0\n",
       "7   [ 0.23935327 -0.27494898  0.3203835   0.308783...  0\n",
       "8   [-0.10997692  0.3096803   0.0071757  -0.062270...  0\n",
       "9   [-0.39370605  0.22923796  0.4451299  -0.049135...  0\n",
       "10  [ 0.26283595 -0.60228455 -0.00933404  0.471641...  1\n",
       "11  [-0.07637039  0.2138035  -0.270198    0.733204...  0\n",
       "12  [-0.06356447 -0.28105763 -0.30422002 -0.025069...  0\n",
       "13  [ 0.2613258   0.13177536  1.022107    0.658506...  0\n",
       "14  [ 0.05009418  0.00606308 -0.19412799  0.075928...  0"
      ]
     },
     "execution_count": 72,
     "metadata": {},
     "output_type": "execute_result"
    }
   ],
   "source": [
    "df.head(15)"
   ]
  },
  {
   "cell_type": "markdown",
   "metadata": {},
   "source": [
    "#### Transformar tipos"
   ]
  },
  {
   "cell_type": "code",
   "execution_count": 99,
   "metadata": {
    "scrolled": true
   },
   "outputs": [
    {
     "ename": "NameError",
     "evalue": "name 'a' is not defined",
     "output_type": "error",
     "traceback": [
      "\u001b[1;31m---------------------------------------------------------------------------\u001b[0m",
      "\u001b[1;31mNameError\u001b[0m                                 Traceback (most recent call last)",
      "\u001b[1;32m<ipython-input-99-21df65ba5506>\u001b[0m in \u001b[0;36m<module>\u001b[1;34m\u001b[0m\n\u001b[0;32m      1\u001b[0m \u001b[0mcount\u001b[0m\u001b[1;33m=\u001b[0m\u001b[1;36m0\u001b[0m\u001b[1;33m\u001b[0m\u001b[1;33m\u001b[0m\u001b[0m\n\u001b[0;32m      2\u001b[0m \u001b[1;32mfor\u001b[0m \u001b[0mi\u001b[0m \u001b[1;32min\u001b[0m \u001b[0mrange\u001b[0m\u001b[1;33m(\u001b[0m\u001b[0mlen\u001b[0m\u001b[1;33m(\u001b[0m\u001b[0mdf_y\u001b[0m\u001b[1;33m)\u001b[0m\u001b[1;33m)\u001b[0m\u001b[1;33m:\u001b[0m\u001b[1;33m\u001b[0m\u001b[1;33m\u001b[0m\u001b[0m\n\u001b[1;32m----> 3\u001b[1;33m     \u001b[0ma\u001b[0m\u001b[1;33m\u001b[0m\u001b[1;33m\u001b[0m\u001b[0m\n\u001b[0m",
      "\u001b[1;31mNameError\u001b[0m: name 'a' is not defined"
     ]
    }
   ],
   "source": [
    "count=0\n",
    "for i in range(len(df_y)):\n",
    "    a\n"
   ]
  },
  {
   "cell_type": "code",
   "execution_count": null,
   "metadata": {},
   "outputs": [],
   "source": []
  },
  {
   "cell_type": "markdown",
   "metadata": {},
   "source": [
    "### Começando a aplicar machine learning"
   ]
  }
 ],
 "metadata": {
  "kernelspec": {
   "display_name": "Python 3",
   "language": "python",
   "name": "python3"
  },
  "language_info": {
   "codemirror_mode": {
    "name": "ipython",
    "version": 3
   },
   "file_extension": ".py",
   "mimetype": "text/x-python",
   "name": "python",
   "nbconvert_exporter": "python",
   "pygments_lexer": "ipython3",
   "version": "3.8.3"
  }
 },
 "nbformat": 4,
 "nbformat_minor": 4
}
